{
 "cells": [
  {
   "cell_type": "code",
   "execution_count": 1,
   "metadata": {
    "collapsed": true
   },
   "outputs": [],
   "source": [
    "import numpy as np\n",
    "import matplotlib as mpl\n",
    "import matplotlib.pyplot as plt\n",
    "import pandas as pd "
   ]
  },
  {
   "cell_type": "code",
   "execution_count": 2,
   "metadata": {
    "collapsed": false
   },
   "outputs": [],
   "source": [
    "data=pd.read_excel('2018_MCM-ICM_Problems/ProblemCData.xlsx')"
   ]
  },
  {
   "cell_type": "code",
   "execution_count": 3,
   "metadata": {
    "collapsed": false
   },
   "outputs": [
    {
     "name": "stdout",
     "output_type": "stream",
     "text": [
      "(105744, 4)\n"
     ]
    }
   ],
   "source": [
    "print(data.shape)"
   ]
  },
  {
   "cell_type": "code",
   "execution_count": 4,
   "metadata": {
    "collapsed": false
   },
   "outputs": [],
   "source": [
    "msn=data.iloc[:,0].values\n",
    "stateCode=data.iloc[:,1].values\n",
    "year=data.iloc[:,2].values\n",
    "da=data.iloc[:,3].values"
   ]
  },
  {
   "cell_type": "code",
   "execution_count": 5,
   "metadata": {
    "collapsed": false
   },
   "outputs": [
    {
     "name": "stdout",
     "output_type": "stream",
     "text": [
      "ABICB\n",
      "AZ\n",
      "1960\n",
      "0.0\n",
      "583\n",
      "['AZ', 'CA', 'NM', 'TX']\n"
     ]
    }
   ],
   "source": [
    "print(msn[0])\n",
    "print(stateCode[0])\n",
    "print(year[0])\n",
    "print(da[0])\n",
    "msnSet=sorted(set(msn))\n",
    "print(len(msnSet))\n",
    "stateSet=sorted(set(stateCode))\n",
    "print(stateSet)"
   ]
  },
  {
   "cell_type": "code",
   "execution_count": 6,
   "metadata": {
    "collapsed": false
   },
   "outputs": [],
   "source": [
    "data=np.zeros(dtype=np.float32,shape=(583,50,4))\n",
    "for i in range(len(msn)):\n",
    "    index=msnSet.index(msn[i])\n",
    "    num=int(year[i]-1960)\n",
    "    dim=stateSet.index(stateCode[i])\n",
    "    data[index,num,dim]=da[i]\n",
    "            \n",
    "    "
   ]
  },
  {
   "cell_type": "code",
   "execution_count": 80,
   "metadata": {
    "collapsed": false
   },
   "outputs": [],
   "source": [
    "#常规信息\n",
    "TPOPP=data[msnSet.index('TPOPP')]   #总人口\n",
    "TETPB=data[msnSet.index('TETPB')]   #人均消费能量\n",
    "TETGR=data[msnSet.index('TETGR')]   #单位 1000Btu/2000美元\n",
    "GDPRV=data[msnSet.index('GDPRV')]   #当前GDP\n",
    "GDPRX=data[msnSet.index('GDPRX')]   #真实GDP"
   ]
  },
  {
   "cell_type": "code",
   "execution_count": 10,
   "metadata": {
    "collapsed": false
   },
   "outputs": [],
   "source": [
    "#沥青和道路石油\n",
    "ARICD=data[msnSet.index('ARICD')]    #工业能量\n",
    "ARICV=data[msnSet.index('ARICV')]    #工业消费\n",
    "ARTCB=data[msnSet.index('ARTCB')]    #总能量\n",
    "ARTCV=data[msnSet.index('ARTCB')]    #总消费\n",
    "AROCB=ARTCB-ARICD                    #其他领域能量\n",
    "AROCV=ARTCV-ARICV                    #其他领域消费"
   ]
  },
  {
   "cell_type": "code",
   "execution_count": 13,
   "metadata": {
    "collapsed": true
   },
   "outputs": [],
   "source": [
    "#航空汽油(其他领域基本没有消费)\n",
    "AVACB=data[msnSet.index('AVACB')]   #交通能量\n",
    "AVACV=data[msnSet.index('AVACV')]   #交通消费\n",
    "AVTCB=data[msnSet.index('AVTCB')]   #总能量\n",
    "AVTCV=data[msnSet.index('AVTCV')]   #总消费\n",
    "AVOCB=AVTCB-AVACB                   #其他领域能量\n",
    "AVOCV=AVTCV-AVACV                   #其他领域消费"
   ]
  },
  {
   "cell_type": "code",
   "execution_count": 16,
   "metadata": {
    "collapsed": true
   },
   "outputs": [],
   "source": [
    "#生物质总消费（没有成本）\n",
    "BMTCB=data[msnSet.index('BMTCB')]   #总能量"
   ]
  },
  {
   "cell_type": "code",
   "execution_count": 19,
   "metadata": {
    "collapsed": true
   },
   "outputs": [],
   "source": [
    "#煤\n",
    "CLCCB=data[msnSet.index('CLCCB')]   #商业能量\n",
    "CLCCV=data[msnSet.index('CLCCV')]   #商业消费\n",
    "CLICB=data[msnSet.index('CLICB')]   #工业能量\n",
    "CLICV=data[msnSet.index('CLICV')]   #工业消费\n",
    "CLTCB=data[msnSet.index('CLTCB')]   #总能量\n",
    "CLTCV=data[msnSet.index('CLTCV')]   #总消费\n",
    "CLOCB=CLTCB-CLICB-CLCCB             #其他领域能量\n",
    "CLOCV=CLTCV-CLICV-CLCCV             #其他领域消费"
   ]
  },
  {
   "cell_type": "code",
   "execution_count": 22,
   "metadata": {
    "collapsed": true
   },
   "outputs": [],
   "source": [
    "#馏分燃料\n",
    "DFCCB=data[msnSet.index('DFCCB')]   #商业能量\n",
    "DFCCV=data[msnSet.index('DFCCV')]   #商业消费\n",
    "DFICB=data[msnSet.index('DFICB')]   #工业能量\n",
    "DFICV=data[msnSet.index('DFICV')]   #工业消费\n",
    "DFTCB=data[msnSet.index('DFTCB')]   #总能量\n",
    "DFTCV=data[msnSet.index('DFTCV')]   #总消费\n",
    "DFOCB=DFTCB-DFICB-DFCCB             #其他领域能量\n",
    "DFOCV=DFTCV-DFICV-DFCCV             #其他领域消费"
   ]
  },
  {
   "cell_type": "code",
   "execution_count": 26,
   "metadata": {
    "collapsed": true
   },
   "outputs": [],
   "source": [
    "#电力\n",
    "ELEXB=data[msnSet.index('ELEXB')]   #出口到美国能量\n",
    "ELEXV=data[msnSet.index('ELEXV')]   #出口到美国获利\n",
    "ELIMB=data[msnSet.index('ELIMB')]   #从美国进口能量\n",
    "ELIMV=data[msnSet.index('ELIMV')]   #从美国进口消费\n",
    "ELOBB=ELEXB-ELIMB                   #电力能量进出口差\n",
    "ELOBV=ELEXV-ELIMV                   #电力消费进出口差"
   ]
  },
  {
   "cell_type": "code",
   "execution_count": 30,
   "metadata": {
    "collapsed": true
   },
   "outputs": [],
   "source": [
    "#电力消耗\n",
    "ESCCB=data[msnSet.index('ESCCB')]   #商业能量\n",
    "ESCCV=data[msnSet.index('ESCCV')]   #商业消费\n",
    "ESICB=data[msnSet.index('ESCCB')]   #工业能量\n",
    "ESICV=data[msnSet.index('ESCCV')]   #工业消费\n",
    "ESTCB=data[msnSet.index('ESTCB')]   #总能量\n",
    "ESTCV=data[msnSet.index('ESTCV')]   #总消费\n",
    "ESOCB=ESTCB-ESICB-ESCCB             #其他领域的能量\n",
    "ESOCV=ESTCV-ESICV-ESCCV             #其他领域的消费"
   ]
  },
  {
   "cell_type": "code",
   "execution_count": 31,
   "metadata": {
    "collapsed": true
   },
   "outputs": [],
   "source": [
    "#乙醇燃料\n",
    "EMCCB=data[msnSet.index('EMCCB')]   #商业能量\n",
    "EMCCV=data[msnSet.index('EMCCV')]   #商业消费\n",
    "EMICB=data[msnSet.index('EMICB')]   #工业能量\n",
    "EMICV=data[msnSet.index('EMICV')]   #工业消费\n",
    "EMTCB=data[msnSet.index('EMTCB')]   #总能量\n",
    "EMTCV=data[msnSet.index('EMTCV')]   #总消费\n",
    "EMOCB=EMTCB-EMICB-EMCCB             #其他领域能量\n",
    "EMOCV=EMTCV-EMICV-EMCCV             #其他领域消费"
   ]
  },
  {
   "cell_type": "code",
   "execution_count": 34,
   "metadata": {
    "collapsed": true
   },
   "outputs": [],
   "source": [
    "#石化燃料（仅有工业部门）\n",
    "FSICB=data[msnSet.index('FSICB')]   #工业能量\n",
    "FSICV=data[msnSet.index('FSICV')]   #工业消费"
   ]
  },
  {
   "cell_type": "code",
   "execution_count": 38,
   "metadata": {
    "collapsed": false
   },
   "outputs": [],
   "source": [
    "#地热（清洁能源）只有 ca有这个能源\n",
    "GECCB=data[msnSet.index('GECCB')]   #商业能量\n",
    "GEICB=data[msnSet.index('GEICB')]   #工业能量\n",
    "GETCB=data[msnSet.index('GETCB')]   #总能量\n",
    "GEOCB=GETCB-GEICB-GECCB             #其他领域"
   ]
  },
  {
   "cell_type": "code",
   "execution_count": 41,
   "metadata": {
    "collapsed": true
   },
   "outputs": [],
   "source": [
    "#水力发电\n",
    "HYCCB=data[msnSet.index('HYCCB')]   #商业能量\n",
    "HYICB=data[msnSet.index('HYICB')]   #工业能量\n",
    "HYTCB=data[msnSet.index('HYTCB')]   #总能量"
   ]
  },
  {
   "cell_type": "code",
   "execution_count": 74,
   "metadata": {
    "collapsed": true
   },
   "outputs": [],
   "source": [
    "#风能发电\n",
    "WYTCB=data[msnSet.index('WYTCB')]   #总能量"
   ]
  },
  {
   "cell_type": "code",
   "execution_count": 44,
   "metadata": {
    "collapsed": true
   },
   "outputs": [],
   "source": [
    "#喷气燃料\n",
    "JFACB=data[msnSet.index('JFACB')]   #交通能量\n",
    "JFACV=data[msnSet.index('JFACV')]   #交通消费\n",
    "JFTCB=data[msnSet.index('JFTCB')]   #总能量\n",
    "JFTCV=data[msnSet.index('JFTCV')]   #总消费\n",
    "JFOCB=JFTCB-JFACB                   #其他领域能量\n",
    "JFOCV=JFTCV-JFACV                   #其他领域消费"
   ]
  },
  {
   "cell_type": "code",
   "execution_count": 48,
   "metadata": {
    "collapsed": false
   },
   "outputs": [],
   "source": [
    "#煤油\n",
    "KSCCB=data[msnSet.index('KSCCB')]   #商业能量\n",
    "KSCCV=data[msnSet.index('KSCCV')]   #商业消费\n",
    "KSICB=data[msnSet.index('KSICB')]   #工业能量\n",
    "KSICV=data[msnSet.index('KSICV')]   #工业消费\n",
    "KSTCB=data[msnSet.index('KSTCB')]   #总能量\n",
    "KSTCV=data[msnSet.index('KSTCV')]   #总消费\n",
    "KSOCB=KSTCB-KSICB-KSCCB              #其他领域能量\n",
    "KSOCV=KSTCV-KSICV-KSCCV              #其他领域消费"
   ]
  },
  {
   "cell_type": "code",
   "execution_count": 50,
   "metadata": {
    "collapsed": true
   },
   "outputs": [],
   "source": [
    "#液化石油气\n",
    "LGCCB=data[msnSet.index('LGCCB')]   #商业能量\n",
    "LGCCV=data[msnSet.index('LGCCV')]   #商业消费\n",
    "LGICB=data[msnSet.index('LGICB')]   #工业能量\n",
    "LGICV=data[msnSet.index('LGICV')]   #工业消费\n",
    "LGTCB=data[msnSet.index('LGTCB')]   #总能量\n",
    "LGTCV=data[msnSet.index('LGTCV')]   #总消费\n",
    "LGOCB=LGTCB-LGICB-LGCCB             #其他领域能量\n",
    "LGOCV=LGTCV-LGICV-LGCCV             #其他领域消费"
   ]
  },
  {
   "cell_type": "code",
   "execution_count": 52,
   "metadata": {
    "collapsed": true
   },
   "outputs": [],
   "source": [
    "#润滑油\n",
    "LUICB=data[msnSet.index('LUICB')]   #工业能量\n",
    "LUICV=data[msnSet.index('LUICV')]   #工业消费\n",
    "LUTCB=data[msnSet.index('LUTCB')]   #总能量\n",
    "LUTCV=data[msnSet.index('LUTCV')]   #总消费\n",
    "LUOCB=LUTCB-LUICB                   #其他领域能量\n",
    "LUOCV=LUTCV-LUICV                   #其他领域消费"
   ]
  },
  {
   "cell_type": "code",
   "execution_count": 54,
   "metadata": {
    "collapsed": true
   },
   "outputs": [],
   "source": [
    "#车用汽油\n",
    "MGCCB=data[msnSet.index('MGCCB')]   #商业能量\n",
    "MGCCV=data[msnSet.index('MGCCV')]   #商业消费\n",
    "MGICB=data[msnSet.index('MGICB')]   #工业能量\n",
    "MGICV=data[msnSet.index('MGICV')]   #工业消费\n",
    "MGTCB=data[msnSet.index('MGTCB')]   #总能量\n",
    "MGTCV=data[msnSet.index('MGTCV')]   #总消费\n",
    "MGOCB=MGTCB-MGICB-MGCCB             #其他领域能量\n",
    "MGOCV=MGTCV-MGICV-MGCCV             #其他领域消费"
   ]
  },
  {
   "cell_type": "code",
   "execution_count": 56,
   "metadata": {
    "collapsed": true
   },
   "outputs": [],
   "source": [
    "#天然气\n",
    "NGCCB=data[msnSet.index('NGCCB')]   #商业能量\n",
    "NGCCV=data[msnSet.index('NGCCV')]   #商业消费\n",
    "NGICB=data[msnSet.index('NGICB')]   #工业能量\n",
    "NGICV=data[msnSet.index('NGICV')]   #工业消费\n",
    "NGTCB=data[msnSet.index('NGTCB')]   #总能量\n",
    "NGTCV=data[msnSet.index('NGTCV')]   #总消费\n",
    "NGOCB=NGTCB-NGICB-NGCCB             #其他领域能量\n",
    "NGOCV=NGTCV-NGICV-NGCCV             #其他领域消费"
   ]
  },
  {
   "cell_type": "code",
   "execution_count": 58,
   "metadata": {
    "collapsed": true
   },
   "outputs": [],
   "source": [
    "#核能发电\n",
    "NUEGB=data[msnSet.index('NUEGB')]   #核能发电能量\n",
    "NUEGV=data[msnSet.index('NUEGV')]   #核能发电消费"
   ]
  },
  {
   "cell_type": "code",
   "execution_count": 60,
   "metadata": {
    "collapsed": true
   },
   "outputs": [],
   "source": [
    "#石油焦\n",
    "PCCCB=data[msnSet.index('PCCCB')]   #商业能量\n",
    "PCCCV=data[msnSet.index('PCCCV')]   #商业消费\n",
    "PCICB=data[msnSet.index('PCICB')]   #工业能量\n",
    "PCICV=data[msnSet.index('PCICV')]   #工业消费\n",
    "PCTCB=data[msnSet.index('PCTCB')]   #总能量\n",
    "PCTCV=data[msnSet.index('PCTCV')]   #总消费\n",
    "PCOCB=PCTCB-PCICB-PCCCB             #其他领域能量\n",
    "PCOCV=PCTCV-PCICV-PCCCV             #其他领域消费"
   ]
  },
  {
   "cell_type": "code",
   "execution_count": 62,
   "metadata": {
    "collapsed": true
   },
   "outputs": [],
   "source": [
    "#一次能源\n",
    "PECCD=data[msnSet.index('PECCD')]   #商业价格\n",
    "PECCV=data[msnSet.index('PECCV')]   #商业消费\n",
    "PEICD=data[msnSet.index('PEICD')]   #工业能量\n",
    "PEICV=data[msnSet.index('PEICV')]   #工业消费\n",
    "PETCD=data[msnSet.index('PETCD')]   #总能量\n",
    "PETCV=data[msnSet.index('PETCV')]   #总消费"
   ]
  },
  {
   "cell_type": "code",
   "execution_count": 64,
   "metadata": {
    "collapsed": true
   },
   "outputs": [],
   "source": [
    "#其他石油产品\n",
    "POICB=data[msnSet.index('POICB')]   #工业能量\n",
    "POICV=data[msnSet.index('POICV')]   #工业消费\n",
    "POTCB=data[msnSet.index('POTCB')]   #总能量\n",
    "POTCV=data[msnSet.index('POTCV')]   #总消费\n",
    "POOCB=POTCB-POICB                   #其他领域能量\n",
    "POOCV=POTCV-POICV                   #其他领域消费"
   ]
  },
  {
   "cell_type": "code",
   "execution_count": 66,
   "metadata": {
    "collapsed": true
   },
   "outputs": [],
   "source": [
    "#可再生能源\n",
    "RETCB=data[msnSet.index('RETCB')]   #总能量"
   ]
  },
  {
   "cell_type": "code",
   "execution_count": 68,
   "metadata": {
    "collapsed": true
   },
   "outputs": [],
   "source": [
    "#残油\n",
    "RFCCB=data[msnSet.index('RFCCB')]   #商业能量\n",
    "RFCCV=data[msnSet.index('RFCCV')]   #商业消费\n",
    "RFICB=data[msnSet.index('RFICB')]   #工业能量\n",
    "RFICV=data[msnSet.index('RFICV')]   #工业消费\n",
    "RFTCB=data[msnSet.index('RFTCB')]   #总能量\n",
    "RFTCV=data[msnSet.index('RFTCV')]   #总消费\n",
    "RFOCB=RFTCB-RFICB-RFCCB             #其他领域能量\n",
    "RFOCV=RFTCV-RFICV-RFCCV             #其他领域消费"
   ]
  },
  {
   "cell_type": "code",
   "execution_count": 70,
   "metadata": {
    "collapsed": true
   },
   "outputs": [],
   "source": [
    "#总能量\n",
    "TECCB=data[msnSet.index('TECCB')]   #商业能量\n",
    "TECCV=data[msnSet.index('TECCV')]   #商业消费\n",
    "TEICB=data[msnSet.index('TEICB')]   #工业能量\n",
    "TEICV=data[msnSet.index('TEICV')]   #工业消费\n",
    "TETCB=data[msnSet.index('TETCB')]   #总能量\n",
    "TETCV=data[msnSet.index('TETCV')]   #总消费\n",
    "TEOCB=TETCB-TEICB-TECCB             #其他领域能量\n",
    "TEOCV=TETCV-TEICV-TECCV             #其他领域消费"
   ]
  },
  {
   "cell_type": "code",
   "execution_count": 72,
   "metadata": {
    "collapsed": true
   },
   "outputs": [],
   "source": [
    "#木材\n",
    "WWCCB=data[msnSet.index('WWCCB')]   #商业能量\n",
    "WWCCV=data[msnSet.index('WWCCV')]   #商业消费\n",
    "WWICB=data[msnSet.index('WWICB')]   #工业能量\n",
    "WWICV=data[msnSet.index('WWICV')]   #工业消费\n",
    "WWTCB=data[msnSet.index('WWTCB')]   #总能量\n",
    "WWTCV=data[msnSet.index('WWTCV')]   #总消费\n",
    "WWOCB=WWTCB-WWICB-WWCCB             #其他领域能量\n",
    "WWOCV=WWTCV-WWICV-WWCCV             #其他领域消费"
   ]
  },
  {
   "cell_type": "code",
   "execution_count": 81,
   "metadata": {
    "collapsed": false
   },
   "outputs": [
    {
     "name": "stdout",
     "output_type": "stream",
     "text": [
      "[1960 1961 1962 1963 1964 1965 1966 1967 1968 1969 1970 1971 1972 1973 1974\n",
      " 1975 1976 1977 1978 1979 1980 1981 1982 1983 1984 1985 1986 1987 1988 1989\n",
      " 1990 1991 1992 1993 1994 1995 1996 1997 1998 1999 2000 2001 2002 2003 2004\n",
      " 2005 2006 2007 2008 2009]\n"
     ]
    },
    {
     "data": {
      "image/png": "[encoded data removed]",
      "text/plain": [
       "<matplotlib.figure.Figure at 0x21fcae8c3c8>"
      ]
     },
     "metadata": {},
     "output_type": "display_data"
    }
   ],
   "source": [
    "x=np.arange(1960,2010)\n",
    "print(x)\n",
    "y=GDPRX\n",
    "plt.plot(x,y[:,0], lw = 1.5,label = stateSet[0])\n",
    "plt.plot(x,y[:,1], lw = 1.5, label = stateSet[1])\n",
    "plt.plot(x,y[:,2], lw = 1.5,label = stateSet[2])\n",
    "plt.plot(x,y[:,3], lw = 1.5, label = stateSet[3])\n",
    "plt.grid(True)\n",
    "plt.legend(loc = 0) #图例位置自动\n",
    "plt.axis('tight')\n",
    "plt.xlabel('year')\n",
    "plt.ylabel('value')\n",
    "plt.title('A simple plot')\n",
    "p1= r'test1.png'# 图片保存路径\n",
    "plt.savefig(p1)# 保存图片\n",
    "plt.show()\n"
   ]
  },
  {
   "cell_type": "code",
   "execution_count": 60,
   "metadata": {
    "collapsed": true
   },
   "outputs": [],
   "source": []
  },
  {
   "cell_type": "code",
   "execution_count": null,
   "metadata": {
    "collapsed": true
   },
   "outputs": [],
   "source": []
  }
 ],
 "metadata": {
  "anaconda-cloud": {},
  "kernelspec": {
   "display_name": "Python [conda root]",
   "language": "python",
   "name": "conda-root-py"
  },
  "language_info": {
   "codemirror_mode": {
    "name": "ipython",
    "version": 3
   },
   "file_extension": ".py",
   "mimetype": "text/x-python",
   "name": "python",
   "nbconvert_exporter": "python",
   "pygments_lexer": "ipython3",
   "version": "3.5.2"
  }
 },
 "nbformat": 4,
 "nbformat_minor": 1
}
